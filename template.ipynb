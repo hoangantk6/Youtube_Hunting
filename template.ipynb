{
 "cells": [
  {
   "cell_type": "code",
   "execution_count": null,
   "metadata": {},
   "outputs": [],
   "source": [
    "!wget https://raw.githubusercontent.com/panda1835/youtube-hunting/main/Utils/data_collection_utils.py"
   ]
  },
  {
   "cell_type": "code",
   "execution_count": null,
   "metadata": {},
   "outputs": [],
   "source": [
    "import pandas as pd\n",
    "import numpy as np\n",
    "import json \n",
    "import os\n",
    "from google.colab import data_table\n",
    "\n",
    "import data_collection_utils as utils"
   ]
  },
  {
   "cell_type": "code",
   "execution_count": null,
   "metadata": {},
   "outputs": [],
   "source": [
    "from google.colab import drive\n",
    "drive.mount('/content/drive')"
   ]
  },
  {
   "cell_type": "code",
   "execution_count": null,
   "metadata": {},
   "outputs": [],
   "source": [
    "root = \"/content/drive/My Drive/Let-Hunt-Youtube/\"\n",
    "config_file_path = os.path.join(root, 'config.json')\n",
    "\n",
    "config = json.load(open(config_file_path))\n",
    "\n",
    "database_save_folder = config['folder']['database']\n",
    "url_db_file_name = config['database']['url']\n",
    "\n",
    "url_file_path = os.path.join(root, database_save_folder, url_db_file_name)"
   ]
  }
 ],
 "metadata": {
  "language_info": {
   "name": "python"
  },
  "orig_nbformat": 4
 },
 "nbformat": 4,
 "nbformat_minor": 2
}
