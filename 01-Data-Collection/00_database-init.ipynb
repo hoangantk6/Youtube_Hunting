{
 "cells": [
  {
   "cell_type": "code",
   "execution_count": null,
   "metadata": {},
   "outputs": [],
   "source": [
    "!wget https://raw.githubusercontent.com/panda1835/youtube-hunting/main/Utils/data_collection_utils.py\n",
    "!wget https://raw.githubusercontent.com/panda1835/youtube-hunting/main/Utils/utils.py"
   ]
  },
  {
   "cell_type": "code",
   "execution_count": null,
   "metadata": {},
   "outputs": [],
   "source": [
    "import os\n",
    "import pandas as pd\n",
    "import data_collection_utils as dcutils\n",
    "import utils "
   ]
  },
  {
   "cell_type": "code",
   "execution_count": null,
   "metadata": {},
   "outputs": [],
   "source": [
    "from google.colab import drive\n",
    "drive.mount('/content/drive')"
   ]
  },
  {
   "cell_type": "code",
   "execution_count": null,
   "metadata": {},
   "outputs": [],
   "source": [
    "root = \"/content/drive/My Drive/Let-Hunt-Youtube/\"\n",
    "config_file_path = os.path.join(root, 'config.json')\n",
    "\n",
    "config = json.load(open(config_file_path))\n",
    "\n",
    "database_save_folder = config['folder']['database']\n",
    "video_url_db_file_name = config['database']['video_url']\n",
    "channel_url_db_file_name = config['database']['channel_url']\n",
    "\n",
    "video_url_file_path = os.path.join(root, database_save_folder, video_url_db_file_name)\n",
    "channel_url_file_path = os.path.join(root, database_save_folder, channel_url_db_file_name)"
   ]
  },
  {
   "cell_type": "code",
   "execution_count": null,
   "metadata": {},
   "outputs": [],
   "source": [
    "# VIDEO_URL.csv\n",
    "utils.save_database(pd.DataFrame({\n",
    "    'video_url' : [],\n",
    "    'added_date' : [],\n",
    "    'search_query' : [],\n",
    "    'video_file_name': [], \n",
    "    'channel_name' : [],\n",
    "    'channel_url' : []\n",
    "}), channel_url_file_path)"
   ]
  },
  {
   "cell_type": "code",
   "execution_count": null,
   "metadata": {},
   "outputs": [],
   "source": [
    "# CHANNEL_URL.csv\n",
    "utils.save_database(pd.DataFrame({\n",
    "    'channel_name' : [],\n",
    "    'channel_url' : [],\n",
    "    'added_date' : [], \n",
    "    'exploitation_01' : []\n",
    "}), channel_url_file_path)"
   ]
  }
 ],
 "metadata": {
  "language_info": {
   "name": "python"
  },
  "orig_nbformat": 4
 },
 "nbformat": 4,
 "nbformat_minor": 2
}
