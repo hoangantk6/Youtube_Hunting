{
  "cells": [
    {
      "cell_type": "markdown",
      "metadata": {
        "id": "view-in-github",
        "colab_type": "text"
      },
      "source": [
        "<a href=\"https://colab.research.google.com/github/panda1835/youtube-hunting/blob/main/04-Data-Analysis/03_comment-analysis.ipynb\" target=\"_parent\"><img src=\"https://colab.research.google.com/assets/colab-badge.svg\" alt=\"Open In Colab\"/></a>"
      ]
    },
    {
      "cell_type": "code",
      "execution_count": 1,
      "metadata": {
        "id": "gpVs2a8R3AQ6",
        "colab": {
          "base_uri": "https://localhost:8080/"
        },
        "outputId": "a4b9421d-f3dc-45c3-f2ab-f5271c05f90b"
      },
      "outputs": [
        {
          "output_type": "stream",
          "name": "stdout",
          "text": [
            "--2022-01-18 13:57:46--  https://raw.githubusercontent.com/panda1835/youtube-hunting/main/Utils/utils.py\n",
            "Resolving raw.githubusercontent.com (raw.githubusercontent.com)... 185.199.108.133, 185.199.111.133, 185.199.110.133, ...\n",
            "Connecting to raw.githubusercontent.com (raw.githubusercontent.com)|185.199.108.133|:443... connected.\n",
            "HTTP request sent, awaiting response... 200 OK\n",
            "Length: 992 [text/plain]\n",
            "Saving to: ‘utils.py’\n",
            "\n",
            "utils.py            100%[===================>]     992  --.-KB/s    in 0s      \n",
            "\n",
            "2022-01-18 13:57:46 (32.4 MB/s) - ‘utils.py’ saved [992/992]\n",
            "\n",
            "--2022-01-18 13:57:46--  https://raw.githubusercontent.com/panda1835/youtube-hunting/main/04-Data-Analysis/src/data_analysis_utils.py\n",
            "Resolving raw.githubusercontent.com (raw.githubusercontent.com)... 185.199.108.133, 185.199.109.133, 185.199.110.133, ...\n",
            "Connecting to raw.githubusercontent.com (raw.githubusercontent.com)|185.199.108.133|:443... connected.\n",
            "HTTP request sent, awaiting response... 200 OK\n",
            "Length: 3690 (3.6K) [text/plain]\n",
            "Saving to: ‘data_analysis_utils.py’\n",
            "\n",
            "data_analysis_utils 100%[===================>]   3.60K  --.-KB/s    in 0s      \n",
            "\n",
            "2022-01-18 13:57:47 (48.5 MB/s) - ‘data_analysis_utils.py’ saved [3690/3690]\n",
            "\n"
          ]
        }
      ],
      "source": [
        "# download utilized scripts\n",
        "!wget https://raw.githubusercontent.com/panda1835/youtube-hunting/main/Utils/utils.py\n",
        "!wget https://raw.githubusercontent.com/panda1835/youtube-hunting/main/04-Data-Analysis/src/data_analysis_utils.py"
      ]
    },
    {
      "cell_type": "code",
      "execution_count": 2,
      "metadata": {
        "id": "Zhg7PhqS3AQ8"
      },
      "outputs": [],
      "source": [
        "import pandas as pd\n",
        "import numpy as np\n",
        "import json \n",
        "import os\n",
        "from tqdm import tqdm\n",
        "import importlib\n",
        "from time import sleep \n",
        "\n",
        "from google.colab import data_table\n",
        "\n",
        "# import utilized scripts\n",
        "import utils as utils\n",
        "import data_analysis_utils as dautils"
      ]
    },
    {
      "cell_type": "code",
      "execution_count": null,
      "metadata": {
        "colab": {
          "base_uri": "https://localhost:8080/"
        },
        "id": "68EnMizT3AQ8",
        "outputId": "be40c41a-9f89-46eb-e8ab-805db76ddf79"
      },
      "outputs": [
        {
          "output_type": "execute_result",
          "data": {
            "text/plain": [
              "<module 'data_analysis_utils' from '/content/data_analysis_utils.py'>"
            ]
          },
          "metadata": {},
          "execution_count": 101
        }
      ],
      "source": [
        "importlib.reload(utils)\n",
        "importlib.reload(dautils)"
      ]
    },
    {
      "cell_type": "code",
      "execution_count": 3,
      "metadata": {
        "colab": {
          "base_uri": "https://localhost:8080/"
        },
        "id": "DK7KIVG23AQ8",
        "outputId": "0d9bc1a4-7e0b-49ec-ebba-3717953488e2"
      },
      "outputs": [
        {
          "output_type": "stream",
          "name": "stdout",
          "text": [
            "Mounted at /content/drive\n"
          ]
        }
      ],
      "source": [
        "from google.colab import drive\n",
        "drive.mount('/content/drive')"
      ]
    },
    {
      "cell_type": "code",
      "execution_count": 4,
      "metadata": {
        "id": "Ew3lbQk83AQ9"
      },
      "outputs": [],
      "source": [
        "root = \"/content/drive/My Drive/Let-Hunt-Youtube/\"\n",
        "config_file_path = os.path.join(root, 'config.json')\n",
        "\n",
        "config = json.load(open(config_file_path))\n",
        "\n",
        "database_save_folder = config['folder']['database']\n",
        "comment_save_folder = config['folder']['comment']\n",
        "visualization_save_folder = config['folder']['data-analysis']\n",
        "visualization_content_save_folder = config['folder']['data-analysis-comment']\n",
        "\n",
        "comment_annotation_db_file_name = config['database']['comment_50_annotation_synthesis']\n",
        "comment_annotation_finalized_db_file_name = config['database']['comment_50_annotation_finalized']\n",
        "\n",
        "comment_annotation_db_file_path = os.path.join(root, comment_save_folder, comment_annotation_db_file_name)\n",
        "comment_annotation_finalized_db_file_path = os.path.join(root, comment_save_folder, comment_annotation_finalized_db_file_name)\n",
        "visualization_folder_path = os.path.join(root, visualization_save_folder, visualization_content_save_folder)\n"
      ]
    },
    {
      "cell_type": "code",
      "source": [
        "# read finalized database\n",
        "annotation_data = pd.read_csv(comment_annotation_finalized_db_file_path)"
      ],
      "metadata": {
        "id": "qKDube4B3MrW"
      },
      "execution_count": 5,
      "outputs": []
    },
    {
      "cell_type": "code",
      "source": [
        "# number of comments\n",
        "len(annotation_data)"
      ],
      "metadata": {
        "id": "r9qBHihH3BYP",
        "colab": {
          "base_uri": "https://localhost:8080/"
        },
        "outputId": "f382f9b1-6bfd-487b-9d75-5b9a01a52601"
      },
      "execution_count": 20,
      "outputs": [
        {
          "output_type": "execute_result",
          "data": {
            "text/plain": [
              "960"
            ]
          },
          "metadata": {},
          "execution_count": 20
        }
      ]
    },
    {
      "cell_type": "code",
      "source": [
        "# number of distinct user\n",
        "annotation_data.author_channel_id.nunique()"
      ],
      "metadata": {
        "id": "OXujrgiJE-U0",
        "colab": {
          "base_uri": "https://localhost:8080/"
        },
        "outputId": "6df70c30-2ba7-4b9a-85dc-e037cf474fc5"
      },
      "execution_count": null,
      "outputs": [
        {
          "output_type": "execute_result",
          "data": {
            "text/plain": [
              "663"
            ]
          },
          "metadata": {},
          "execution_count": 9
        }
      ]
    },
    {
      "cell_type": "code",
      "source": [
        "# plot comment topic frequency\n",
        "topic_list = annotation_data.finalized_tag[annotation_data.finalized_tag.notna()]\n",
        "topic_freq = dautils.list_to_freq(topic_list)\n",
        "\n",
        "name_matching = {\n",
        "    'this shit is purely illegal': 'Claim of illegality',\n",
        "    'content': 'Content',\n",
        "    'this shit is purely cruel': 'Claim of cruelty',\n",
        "    'shooting skills / techniques': 'Shooting skills',\n",
        "    'target animal info': 'Animal info',\n",
        "    'shop feedback': 'Shop feedback',\n",
        "    'contact exchange': 'Contact exchange', \n",
        "    'the rifle': 'Rifle',\n",
        "    'where/how to buy': 'How to buy', \n",
        "    'price': 'Price',\n",
        "    'accessories (phụ kiện)': 'Accessories',\n",
        "    'greetings / networking': 'Other' \n",
        "}\n",
        "plt = dautils.bar_plot(topic_freq, \n",
        "                 xlabel='Frequency', \n",
        "                 ylabel='Topic', \n",
        "                 title='Comment topic frquency',\n",
        "                 orientation='horizontal',\n",
        "                 x_tick_label=name_matching\n",
        "                 )\n",
        "\n",
        "# save image\n",
        "utils.save_image(plt, visualization_folder_path, \"comment_topic_frequency.jpg\")"
      ],
      "metadata": {
        "colab": {
          "base_uri": "https://localhost:8080/",
          "height": 367
        },
        "id": "4Ec6WrBC97m3",
        "outputId": "5f98d3b6-8db9-41e1-c35f-c1fb3768594d"
      },
      "execution_count": 19,
      "outputs": [
        {
          "output_type": "stream",
          "name": "stdout",
          "text": [
            "File is saved to comment_topic_frequency.jpg in Google Drive at /content/drive/My Drive/Let-Hunt-Youtube/Data-Analysis/Comment/comment_topic_frequency.jpg\n"
          ]
        },
        {
          "output_type": "display_data",
          "data": {
            "image/png": "[encoded data removed]",
            "text/plain": [
              "<Figure size 720x360 with 1 Axes>"
            ]
          },
          "metadata": {
            "needs_background": "light"
          }
        }
      ]
    },
    {
      "cell_type": "code",
      "source": [
        "# pro/against pie chart\n",
        "num_pro = topic_list.isin(['this shit is purely cruel', 'this shit is purely illegal']).sum()\n",
        "num_against = len(topic_list) - (topic_list.isin(['this shit is purely cruel', 'this shit is purely illegal'])).sum()\n",
        "\n",
        "plt.figure(figsize=(5,5))\n",
        "plt.pie([num_pro, num_against], explode=[0, 0.1], labels=['Against', 'Pro'], autopct='%1.1f%%', shadow=True, startangle=90)\n",
        "plt.title('Proportion of Pro and Against comments')\n",
        "\n",
        "utils.save_image(plt, visualization_folder_path, \"pro_against_pie.jpg\")"
      ],
      "metadata": {
        "colab": {
          "base_uri": "https://localhost:8080/",
          "height": 356
        },
        "id": "R-hP55T9AtuW",
        "outputId": "ddcd4968-a420-4a41-8fce-17ea16c0e296"
      },
      "execution_count": null,
      "outputs": [
        {
          "output_type": "stream",
          "name": "stdout",
          "text": [
            "File is saved to pro_against_pie.jpg in Google Drive at /content/drive/My Drive/Let-Hunt-Youtube/Data-Analysis/Comment/pro_against_pie.jpg\n"
          ]
        },
        {
          "output_type": "display_data",
          "data": {
            "image/png": "[encoded data removed]",
            "text/plain": [
              "<Figure size 360x360 with 1 Axes>"
            ]
          },
          "metadata": {}
        }
      ]
    },
    {
      "cell_type": "code",
      "source": [
        ""
      ],
      "metadata": {
        "id": "ODHYTm3Fhl7D"
      },
      "execution_count": null,
      "outputs": []
    }
  ],
  "metadata": {
    "language_info": {
      "name": "python"
    },
    "orig_nbformat": 4,
    "colab": {
      "name": "03_comment-analysis.ipynb",
      "provenance": [],
      "collapsed_sections": [],
      "include_colab_link": true
    },
    "kernelspec": {
      "name": "python3",
      "display_name": "Python 3"
    }
  },
  "nbformat": 4,
  "nbformat_minor": 0
}