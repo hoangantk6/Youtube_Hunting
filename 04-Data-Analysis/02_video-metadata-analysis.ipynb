{
  "cells": [
    {
      "cell_type": "markdown",
      "metadata": {
        "id": "view-in-github",
        "colab_type": "text"
      },
      "source": [
        "<a href=\"https://colab.research.google.com/github/panda1835/youtube-hunting/blob/main/04-Data-Analysis/02_video-metadata-analysis.ipynb\" target=\"_parent\"><img src=\"https://colab.research.google.com/assets/colab-badge.svg\" alt=\"Open In Colab\"/></a>"
      ]
    },
    {
      "cell_type": "code",
      "execution_count": 2,
      "metadata": {
        "colab": {
          "base_uri": "https://localhost:8080/"
        },
        "id": "dzEdms2GVx9g",
        "outputId": "8793502c-6242-4233-f4cc-368352e8a793"
      },
      "outputs": [
        {
          "output_type": "stream",
          "name": "stdout",
          "text": [
            "--2021-12-31 08:40:32--  https://raw.githubusercontent.com/panda1835/youtube-hunting/main/04-Data-Analysis/src/data_analysis_utils.py\n",
            "Resolving raw.githubusercontent.com (raw.githubusercontent.com)... 185.199.110.133, 185.199.109.133, 185.199.111.133, ...\n",
            "Connecting to raw.githubusercontent.com (raw.githubusercontent.com)|185.199.110.133|:443... connected.\n",
            "HTTP request sent, awaiting response... 200 OK\n",
            "Length: 1258 (1.2K) [text/plain]\n",
            "Saving to: ‘data_analysis_utils.py’\n",
            "\n",
            "data_analysis_utils 100%[===================>]   1.23K  --.-KB/s    in 0s      \n",
            "\n",
            "2021-12-31 08:40:32 (85.7 MB/s) - ‘data_analysis_utils.py’ saved [1258/1258]\n",
            "\n"
          ]
        }
      ],
      "source": [
        "# download utilized scripts\n",
        "!wget https://raw.githubusercontent.com/panda1835/youtube-hunting/main/04-Data-Analysis/src/data_analysis_utils.py\n",
        "!wget https://raw.githubusercontent.com/panda1835/youtube-hunting/main/Utils/utils.py"
      ]
    },
    {
      "cell_type": "code",
      "execution_count": 25,
      "metadata": {
        "id": "KlxF_l_FVx9h"
      },
      "outputs": [],
      "source": [
        "import pandas as pd\n",
        "import numpy as np\n",
        "import json \n",
        "import os\n",
        "from tqdm import tqdm\n",
        "import importlib\n",
        "from time import sleep \n",
        "\n",
        "import matplotlib.pyplot as plt\n",
        "\n",
        "from google.colab import data_table\n",
        "\n",
        "# import utilized scripts\n",
        "import data_analysis_utils as dautils\n",
        "import utils as utils"
      ]
    },
    {
      "cell_type": "code",
      "execution_count": null,
      "metadata": {
        "id": "FsEKRKQFVx9i"
      },
      "outputs": [],
      "source": [
        "importlib.reload(dcutils)\n",
        "importlib.reload(utils)"
      ]
    },
    {
      "cell_type": "code",
      "execution_count": 4,
      "metadata": {
        "colab": {
          "base_uri": "https://localhost:8080/"
        },
        "id": "IdAN3xdlVx9i",
        "outputId": "36171543-e7ea-4984-9b50-49a3507e8878"
      },
      "outputs": [
        {
          "output_type": "stream",
          "name": "stdout",
          "text": [
            "Mounted at /content/drive\n"
          ]
        }
      ],
      "source": [
        "from google.colab import drive\n",
        "drive.mount('/content/drive')"
      ]
    },
    {
      "cell_type": "code",
      "execution_count": 43,
      "metadata": {
        "id": "TLQS0EJnVx9j"
      },
      "outputs": [],
      "source": [
        "root = \"/content/drive/My Drive/Let-Hunt-Youtube/\"\n",
        "config_file_path = os.path.join(root, 'config.json')\n",
        "\n",
        "config = json.load(open(config_file_path))\n",
        "\n",
        "database_save_folder = config['folder']['database']\n",
        "visualization_save_folder = config['folder']['data-analysis']\n",
        "visualization_metadata_save_folder = config['folder']['data-analysis-metadata']\n",
        "\n",
        "video_url_50_db_file_name = config['database']['video_url_50']\n",
        "video_url_50_anno_db_file_name = config['database']['video_url_50_annotation']\n",
        "\n",
        "video_url_50_file_path = os.path.join(root, database_save_folder, video_url_50_db_file_name)\n",
        "video_url_50_anno_db_file_path = os.path.join(root, database_save_folder, video_url_50_anno_db_file_name)\n",
        "visualization_folder_path = os.path.join(root, visualization_save_folder, visualization_metadata_save_folder)"
      ]
    },
    {
      "cell_type": "code",
      "source": [
        "# read db\n",
        "video_df = pd.read_csv(video_url_50_file_path)\n",
        "video_anno_df = pd.read_csv(video_url_50_anno_db_file_path)"
      ],
      "metadata": {
        "id": "OrxtP556psmm"
      },
      "execution_count": 6,
      "outputs": []
    },
    {
      "cell_type": "code",
      "source": [
        "# create a join dataframe\n",
        "join_df = video_anno_df.join(video_df, lsuffix='', rsuffix='other')\n",
        "assert join_df.video_url.to_list() == join_df.video_url_other.to_list(), print(\"Unmatched id\")\n",
        "join_df.sample()"
      ],
      "metadata": {
        "colab": {
          "base_uri": "https://localhost:8080/",
          "height": 232
        },
        "id": "lKxkCCDrppmK",
        "outputId": "a21d61d2-c3f1-433e-88a0-6966805db184"
      },
      "execution_count": 16,
      "outputs": [
        {
          "output_type": "execute_result",
          "data": {
            "text/html": [
              "\n",
              "  <div id=\"df-74868a83-473b-4aab-915b-6222bd7b0d5a\">\n",
              "    <div class=\"colab-df-container\">\n",
              "      <div>\n",
              "<style scoped>\n",
              "    .dataframe tbody tr th:only-of-type {\n",
              "        vertical-align: middle;\n",
              "    }\n",
              "\n",
              "    .dataframe tbody tr th {\n",
              "        vertical-align: top;\n",
              "    }\n",
              "\n",
              "    .dataframe thead th {\n",
              "        text-align: right;\n",
              "    }\n",
              "</style>\n",
              "<table border=\"1\" class=\"dataframe\">\n",
              "  <thead>\n",
              "    <tr style=\"text-align: right;\">\n",
              "      <th></th>\n",
              "      <th>video_url</th>\n",
              "      <th>comment_sheet_name</th>\n",
              "      <th>seller_showcase_only</th>\n",
              "      <th>seller_showcase_with_dead_animal</th>\n",
              "      <th>seller_demo_no_killing</th>\n",
              "      <th>seller_demo_has_killing</th>\n",
              "      <th>non_seller_has_killing</th>\n",
              "      <th>non_seller_no_killing</th>\n",
              "      <th>rifle_type</th>\n",
              "      <th>accessories</th>\n",
              "      <th>Note</th>\n",
              "      <th>video_urlother</th>\n",
              "      <th>added_date</th>\n",
              "      <th>search_query</th>\n",
              "      <th>video_file_name</th>\n",
              "      <th>channel_name</th>\n",
              "      <th>channel_url</th>\n",
              "      <th>extracted_date</th>\n",
              "      <th>video_id</th>\n",
              "      <th>comment_sheet_nameother</th>\n",
              "      <th>comment_added_date</th>\n",
              "      <th>video_name</th>\n",
              "      <th>id</th>\n",
              "      <th>video_url_other</th>\n",
              "      <th>channel_id</th>\n",
              "      <th>channel_name_other</th>\n",
              "      <th>video_file_name_other</th>\n",
              "      <th>video_description</th>\n",
              "      <th>num_like</th>\n",
              "      <th>num_dislike</th>\n",
              "      <th>num_view</th>\n",
              "      <th>published_time</th>\n",
              "      <th>tags</th>\n",
              "      <th>video_topic_category</th>\n",
              "      <th>duration</th>\n",
              "      <th>projection</th>\n",
              "      <th>definition</th>\n",
              "      <th>thumbnail_default</th>\n",
              "      <th>thumbnail_medium</th>\n",
              "      <th>thumbnail_high</th>\n",
              "      <th>thumbnail_standard</th>\n",
              "      <th>last_update</th>\n",
              "    </tr>\n",
              "  </thead>\n",
              "  <tbody>\n",
              "    <tr>\n",
              "      <th>8</th>\n",
              "      <td>https://www.youtube.com/watch?v=xcV48yV7Dvk</td>\n",
              "      <td>video00009</td>\n",
              "      <td>NaN</td>\n",
              "      <td>NaN</td>\n",
              "      <td>NaN</td>\n",
              "      <td>x</td>\n",
              "      <td>NaN</td>\n",
              "      <td>NaN</td>\n",
              "      <td>NaN</td>\n",
              "      <td>NaN</td>\n",
              "      <td>NaN</td>\n",
              "      <td>https://www.youtube.com/watch?v=xcV48yV7Dvk</td>\n",
              "      <td>2021-12-22 09:30:38</td>\n",
              "      <td>channel: Thú Vui Hái Lượm</td>\n",
              "      <td>NaN</td>\n",
              "      <td>Thú Vui Hái Lượm</td>\n",
              "      <td>https://www.youtube.com/channel/UChtmfWyYkhjvS...</td>\n",
              "      <td>NaN</td>\n",
              "      <td>xcV48yV7Dvk</td>\n",
              "      <td>video00009</td>\n",
              "      <td>2021-12-22 11:26:55</td>\n",
              "      <td>Hunting With PCP And Light Entertainment😋😋😋. R...</td>\n",
              "      <td>xcV48yV7Dvk</td>\n",
              "      <td>https://www.youtube.com/watch?v=xcV48yV7Dvk</td>\n",
              "      <td>UChtmfWyYkhjvS5_pbEFs6Rw</td>\n",
              "      <td>Thú Vui Hái Lượm</td>\n",
              "      <td>NaN</td>\n",
              "      <td>ThúVuiHáiLượm# săn bắn# bấy thu</td>\n",
              "      <td>17</td>\n",
              "      <td>NaN</td>\n",
              "      <td>1508</td>\n",
              "      <td>2020-02-05T15:14:01Z</td>\n",
              "      <td>sănbắn, sănthú, súngpcp, sungsan, bấythú, bấyc...</td>\n",
              "      <td>https://en.wikipedia.org/wiki/Hobby, https://e...</td>\n",
              "      <td>PT5M12S</td>\n",
              "      <td>rectangular</td>\n",
              "      <td>hd</td>\n",
              "      <td>https://i.ytimg.com/vi/xcV48yV7Dvk/default.jpg</td>\n",
              "      <td>https://i.ytimg.com/vi/xcV48yV7Dvk/mqdefault.jpg</td>\n",
              "      <td>https://i.ytimg.com/vi/xcV48yV7Dvk/hqdefault.jpg</td>\n",
              "      <td>https://i.ytimg.com/vi/xcV48yV7Dvk/sddefault.jpg</td>\n",
              "      <td>2021-12-31 15:28:45</td>\n",
              "    </tr>\n",
              "  </tbody>\n",
              "</table>\n",
              "</div>\n",
              "      <button class=\"colab-df-convert\" onclick=\"convertToInteractive('df-74868a83-473b-4aab-915b-6222bd7b0d5a')\"\n",
              "              title=\"Convert this dataframe to an interactive table.\"\n",
              "              style=\"display:none;\">\n",
              "        \n",
              "  <svg xmlns=\"http://www.w3.org/2000/svg\" height=\"24px\"viewBox=\"0 0 24 24\"\n",
              "       width=\"24px\">\n",
              "    <path d=\"M0 0h24v24H0V0z\" fill=\"none\"/>\n",
              "    <path d=\"M18.56 5.44l.94 2.06.94-2.06 2.06-.94-2.06-.94-.94-2.06-.94 2.06-2.06.94zm-11 1L8.5 8.5l.94-2.06 2.06-.94-2.06-.94L8.5 2.5l-.94 2.06-2.06.94zm10 10l.94 2.06.94-2.06 2.06-.94-2.06-.94-.94-2.06-.94 2.06-2.06.94z\"/><path d=\"M17.41 7.96l-1.37-1.37c-.4-.4-.92-.59-1.43-.59-.52 0-1.04.2-1.43.59L10.3 9.45l-7.72 7.72c-.78.78-.78 2.05 0 2.83L4 21.41c.39.39.9.59 1.41.59.51 0 1.02-.2 1.41-.59l7.78-7.78 2.81-2.81c.8-.78.8-2.07 0-2.86zM5.41 20L4 18.59l7.72-7.72 1.47 1.35L5.41 20z\"/>\n",
              "  </svg>\n",
              "      </button>\n",
              "      \n",
              "  <style>\n",
              "    .colab-df-container {\n",
              "      display:flex;\n",
              "      flex-wrap:wrap;\n",
              "      gap: 12px;\n",
              "    }\n",
              "\n",
              "    .colab-df-convert {\n",
              "      background-color: #E8F0FE;\n",
              "      border: none;\n",
              "      border-radius: 50%;\n",
              "      cursor: pointer;\n",
              "      display: none;\n",
              "      fill: #1967D2;\n",
              "      height: 32px;\n",
              "      padding: 0 0 0 0;\n",
              "      width: 32px;\n",
              "    }\n",
              "\n",
              "    .colab-df-convert:hover {\n",
              "      background-color: #E2EBFA;\n",
              "      box-shadow: 0px 1px 2px rgba(60, 64, 67, 0.3), 0px 1px 3px 1px rgba(60, 64, 67, 0.15);\n",
              "      fill: #174EA6;\n",
              "    }\n",
              "\n",
              "    [theme=dark] .colab-df-convert {\n",
              "      background-color: #3B4455;\n",
              "      fill: #D2E3FC;\n",
              "    }\n",
              "\n",
              "    [theme=dark] .colab-df-convert:hover {\n",
              "      background-color: #434B5C;\n",
              "      box-shadow: 0px 1px 3px 1px rgba(0, 0, 0, 0.15);\n",
              "      filter: drop-shadow(0px 1px 2px rgba(0, 0, 0, 0.3));\n",
              "      fill: #FFFFFF;\n",
              "    }\n",
              "  </style>\n",
              "\n",
              "      <script>\n",
              "        const buttonEl =\n",
              "          document.querySelector('#df-74868a83-473b-4aab-915b-6222bd7b0d5a button.colab-df-convert');\n",
              "        buttonEl.style.display =\n",
              "          google.colab.kernel.accessAllowed ? 'block' : 'none';\n",
              "\n",
              "        async function convertToInteractive(key) {\n",
              "          const element = document.querySelector('#df-74868a83-473b-4aab-915b-6222bd7b0d5a');\n",
              "          const dataTable =\n",
              "            await google.colab.kernel.invokeFunction('convertToInteractive',\n",
              "                                                     [key], {});\n",
              "          if (!dataTable) return;\n",
              "\n",
              "          const docLinkHtml = 'Like what you see? Visit the ' +\n",
              "            '<a target=\"_blank\" href=https://colab.research.google.com/notebooks/data_table.ipynb>data table notebook</a>'\n",
              "            + ' to learn more about interactive tables.';\n",
              "          element.innerHTML = '';\n",
              "          dataTable['output_type'] = 'display_data';\n",
              "          await google.colab.output.renderOutput(dataTable, element);\n",
              "          const docLink = document.createElement('div');\n",
              "          docLink.innerHTML = docLinkHtml;\n",
              "          element.appendChild(docLink);\n",
              "        }\n",
              "      </script>\n",
              "    </div>\n",
              "  </div>\n",
              "  "
            ],
            "text/plain": [
              "                                     video_url  ...          last_update\n",
              "8  https://www.youtube.com/watch?v=xcV48yV7Dvk  ...  2021-12-31 15:28:45\n",
              "\n",
              "[1 rows x 42 columns]"
            ]
          },
          "metadata": {},
          "execution_count": 16
        }
      ]
    },
    {
      "cell_type": "code",
      "source": [
        "# clean\n",
        "# drop unnecessary column\n",
        "\n",
        "# convert to date-time\n",
        "join_df['published_time']=pd.to_datetime(join_df['published_time'])"
      ],
      "metadata": {
        "id": "zmnseF1Erlm3"
      },
      "execution_count": 19,
      "outputs": []
    },
    {
      "cell_type": "code",
      "source": [
        "# trend over time\n",
        "plt.figure(figsize=(10, 5))\n",
        "a = join_df.groupby(join_df['published_time'].dt.strftime('%Y-%m'))['video_url'].count()\n",
        "x = a.index\n",
        "plt.plot(x, a[x])\n",
        "plt.xticks(rotation=90)\n",
        "plt.title(\"Trend over time\")\n",
        "plt.xlabel('Month')\n",
        "plt.ylabel('No. of videos')\n",
        "plt.show()\n",
        "utils.save_image(plt, visualization_folder_path, \"trend-over-time.jpg\")"
      ],
      "metadata": {
        "colab": {
          "base_uri": "https://localhost:8080/",
          "height": 436
        },
        "id": "9IMBrv31qY7D",
        "outputId": "2306bd1a-0f3a-43a3-f79a-80fa034ea00a"
      },
      "execution_count": 45,
      "outputs": [
        {
          "output_type": "display_data",
          "data": {
            "image/png": "[encoded data removed]",
            "text/plain": [
              "<Figure size 720x360 with 1 Axes>"
            ]
          },
          "metadata": {
            "needs_background": "light"
          }
        },
        {
          "output_type": "stream",
          "name": "stdout",
          "text": [
            "File is saved to trend-over-time.jpg in Google Drive at /content/drive/My Drive/Let-Hunt-Youtube/Data-Analysis/Metadata/trend-over-time.jpg\n"
          ]
        },
        {
          "output_type": "display_data",
          "data": {
            "text/plain": [
              "<Figure size 432x288 with 0 Axes>"
            ]
          },
          "metadata": {}
        }
      ]
    },
    {
      "cell_type": "code",
      "source": [
        ""
      ],
      "metadata": {
        "id": "ZfYJb4Rmt2Ok"
      },
      "execution_count": null,
      "outputs": []
    }
  ],
  "metadata": {
    "language_info": {
      "name": "python"
    },
    "orig_nbformat": 4,
    "colab": {
      "name": "02_video-metadata-analysis.ipynb",
      "provenance": [],
      "collapsed_sections": [],
      "include_colab_link": true
    },
    "kernelspec": {
      "name": "python3",
      "display_name": "Python 3"
    }
  },
  "nbformat": 4,
  "nbformat_minor": 0
}